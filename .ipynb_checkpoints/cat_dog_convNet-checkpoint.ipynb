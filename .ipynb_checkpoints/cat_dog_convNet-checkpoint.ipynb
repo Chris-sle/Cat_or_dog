{
 "cells": [
  {
   "cell_type": "code",
   "execution_count": 1,
   "id": "2f2b1e7a-bb09-40d4-81b5-7e2f67ac44c6",
   "metadata": {
    "scrolled": true
   },
   "outputs": [
    {
     "name": "stdout",
     "output_type": "stream",
     "text": [
      "Shape of X: (74838, 70, 70, 1)\n",
      "Shape of y: (74838,)\n",
      "Epoch 1/10\n",
      "2105/2105 [==============================] - 293s 139ms/step - loss: 0.5575 - accuracy: 0.7057 - val_loss: 0.5075 - val_accuracy: 0.7525\n",
      "Epoch 2/10\n",
      "2105/2105 [==============================] - 290s 138ms/step - loss: 0.4118 - accuracy: 0.8125 - val_loss: 0.3611 - val_accuracy: 0.8387\n",
      "Epoch 3/10\n",
      "2105/2105 [==============================] - 296s 141ms/step - loss: 0.3353 - accuracy: 0.8541 - val_loss: 0.3254 - val_accuracy: 0.8581\n",
      "Epoch 4/10\n",
      "2105/2105 [==============================] - 293s 139ms/step - loss: 0.2883 - accuracy: 0.8765 - val_loss: 0.2820 - val_accuracy: 0.8784\n",
      "Epoch 5/10\n",
      "2105/2105 [==============================] - 291s 138ms/step - loss: 0.2483 - accuracy: 0.8962 - val_loss: 0.2546 - val_accuracy: 0.8922\n",
      "Epoch 6/10\n",
      "2105/2105 [==============================] - 293s 139ms/step - loss: 0.2175 - accuracy: 0.9093 - val_loss: 0.2213 - val_accuracy: 0.9079\n",
      "Epoch 7/10\n",
      "2105/2105 [==============================] - 293s 139ms/step - loss: 0.1890 - accuracy: 0.9222 - val_loss: 0.1878 - val_accuracy: 0.9254\n",
      "Epoch 8/10\n",
      "2105/2105 [==============================] - 294s 140ms/step - loss: 0.1679 - accuracy: 0.9317 - val_loss: 0.1711 - val_accuracy: 0.9341\n",
      "Epoch 9/10\n",
      "2105/2105 [==============================] - 294s 140ms/step - loss: 0.1458 - accuracy: 0.9418 - val_loss: 0.1633 - val_accuracy: 0.9331\n",
      "Epoch 10/10\n",
      "2105/2105 [==============================] - 296s 141ms/step - loss: 0.1311 - accuracy: 0.9485 - val_loss: 0.1461 - val_accuracy: 0.9400\n"
     ]
    },
    {
     "data": {
      "text/plain": [
       "<keras.callbacks.History at 0x144af34d990>"
      ]
     },
     "execution_count": 1,
     "metadata": {},
     "output_type": "execute_result"
    }
   ],
   "source": [
    "# Convolutional Neural Networks\n",
    "import tensorflow as tf  # Import TensorFlow library for deep learning\n",
    "from tensorflow.keras.models import Sequential  # Sequential model for building neural networks layer by layer\n",
    "from tensorflow.keras.layers import Dense, Dropout, Activation, Flatten, Conv2D, MaxPooling2D  # Import necessary layers\n",
    "import pickle  # Import the pickle library for loading data\n",
    "import numpy as np\n",
    "\n",
    "gpu_options = tf.GPUOptions(per_proccess_gpu_memory_fraction=0.333)\n",
    "sess = tf.Session(config=tf.ConfigProto(gpu_options=gpu_options))\n",
    "\n",
    "# Load preprocessed image data and labels from pickle files\n",
    "X = pickle.load(open(\"X.pickle\",\"rb\"))  # Load feature data (images)\n",
    "y = pickle.load(open(\"y.pickle\",\"rb\"))  # Load labels (categories)\n",
    "\n",
    "# Normalize the pixel values of images to a range of 0 to 1\n",
    "# This improves model performance and convergence speed\n",
    "X = X / 255.0  \n",
    "\n",
    "# Convert y to a NumPy array to ensure it's in the correct format for training\n",
    "y = np.array(y)\n",
    "\n",
    "# Check shapes\n",
    "print(\"Shape of X:\", X.shape)  # Expected: (num_samples, IMG_SIZE, IMG_SIZE, 1)\n",
    "print(\"Shape of y:\", y.shape)  # Expected: (num_samples,)\n",
    "\n",
    "# Make sure the samples match\n",
    "assert X.shape[0] == y.shape[0], \"Number of samples in X and y must match.\"\n",
    "\n",
    "# Initialize a Sequential model\n",
    "model = Sequential()\n",
    "\n",
    "# Add the first convolutional layer\n",
    "# 64 filters, each of size 3x3, with input shape as the dimensions of the images (excluding the batch size).\n",
    "model.add(Conv2D(64, (3, 3), input_shape=X.shape[1:]))  \n",
    "model.add(Activation(\"relu\"))  # Apply the ReLU activation function to introduce non-linearity\n",
    "model.add(MaxPooling2D(pool_size=(2, 2)))  # Downsample the output by taking the maximum value in 2x2 pools \n",
    "\n",
    "# Add a second convolutional layer\n",
    "model.add(Conv2D(64, (3, 3)))  # Another convolutional layer with 64 filters\n",
    "model.add(Activation(\"relu\"))  # ReLU activation again\n",
    "model.add(MaxPooling2D(pool_size=(2, 2)))  # Downsampling to reduce the spatial dimensions\n",
    "\n",
    "# Flatten the output from the convolutional layers to feed into the dense layers\n",
    "model.add(Flatten())\n",
    "\n",
    "# Add a fully connected (dense) layer\n",
    "model.add(Dense(64))  # This layer has 64 neurons\n",
    "model.add(Activation(\"relu\"))  # ReLU activation again\n",
    "\n",
    "# Output layer for binary classification\n",
    "# Only 1 neuron since the activation will be sigmoid, which outputs a value between 0 and 1\n",
    "model.add(Dense(1))  \n",
    "model.add(Activation(\"sigmoid\"))  # Sigmoid activation, suitable for binary classification\n",
    "\n",
    "# Compile the model with specified parameters\n",
    "model.compile(loss=\"binary_crossentropy\",  # Loss function for binary classification\n",
    "              optimizer=\"adam\",  # Adam optimizer for efficiency\n",
    "              metrics=['accuracy'])  # Track accuracy during training\n",
    "\n",
    "# Train the model using the training data\n",
    "# Use a batch size of 32 for processing the training data\n",
    "model.fit(X, y, batch_size=32, epochs=10, validation_split=0.1)"
   ]
  }
 ],
 "metadata": {
  "kernelspec": {
   "display_name": "Python (Clean ML)",
   "language": "python",
   "name": "cleanmlenv"
  },
  "language_info": {
   "codemirror_mode": {
    "name": "ipython",
    "version": 3
   },
   "file_extension": ".py",
   "mimetype": "text/x-python",
   "name": "python",
   "nbconvert_exporter": "python",
   "pygments_lexer": "ipython3",
   "version": "3.10.13"
  }
 },
 "nbformat": 4,
 "nbformat_minor": 5
}
