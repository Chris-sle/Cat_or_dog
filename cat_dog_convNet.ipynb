{
 "cells": [
  {
   "cell_type": "code",
   "execution_count": 1,
   "id": "815501d8-42ff-4eb5-917e-b6d33d8d74a6",
   "metadata": {},
   "outputs": [
    {
     "name": "stdout",
     "output_type": "stream",
     "text": [
      "TensorFlow version: 2.10.0\n",
      "No GPUs available, using CPU.\n"
     ]
    }
   ],
   "source": [
    "import tensorflow as tf\n",
    "\n",
    "# Check TensorFlow version\n",
    "print(\"TensorFlow version:\", tf.__version__)\n",
    "\n",
    "# List available GPUs\n",
    "gpus = tf.config.list_physical_devices('GPU')\n",
    "if gpus:\n",
    "    print(\"GPUs are available:\", gpus)\n",
    "else:\n",
    "    print(\"No GPUs available, using CPU.\")"
   ]
  },
  {
   "cell_type": "code",
   "execution_count": 4,
   "id": "2f2b1e7a-bb09-40d4-81b5-7e2f67ac44c6",
   "metadata": {
    "scrolled": true
   },
   "outputs": [
    {
     "name": "stdout",
     "output_type": "stream",
     "text": [
      "3-conv-64-nodes-0-dense-1734087613\n",
      "Epoch 1/10\n",
      "1638/1638 [==============================] - 256s 153ms/step - loss: 0.5262 - accuracy: 0.7263 - val_loss: 0.4305 - val_accuracy: 0.8034\n",
      "Epoch 2/10\n",
      "1638/1638 [==============================] - 256s 157ms/step - loss: 0.3708 - accuracy: 0.8346 - val_loss: 0.3256 - val_accuracy: 0.8521\n",
      "Epoch 3/10\n",
      "1638/1638 [==============================] - 253s 154ms/step - loss: 0.2963 - accuracy: 0.8731 - val_loss: 0.3002 - val_accuracy: 0.8713\n",
      "Epoch 4/10\n",
      "1638/1638 [==============================] - 257s 157ms/step - loss: 0.2395 - accuracy: 0.8988 - val_loss: 0.1951 - val_accuracy: 0.9193\n",
      "Epoch 5/10\n",
      "1638/1638 [==============================] - 253s 154ms/step - loss: 0.1912 - accuracy: 0.9225 - val_loss: 0.2069 - val_accuracy: 0.9096\n",
      "Epoch 6/10\n",
      "1638/1638 [==============================] - 258s 158ms/step - loss: 0.1463 - accuracy: 0.9422 - val_loss: 0.1480 - val_accuracy: 0.9388\n",
      "Epoch 7/10\n",
      "1638/1638 [==============================] - 266s 162ms/step - loss: 0.1114 - accuracy: 0.9556 - val_loss: 0.0720 - val_accuracy: 0.9767\n",
      "Epoch 8/10\n",
      "1638/1638 [==============================] - 279s 171ms/step - loss: 0.0813 - accuracy: 0.9696 - val_loss: 0.0921 - val_accuracy: 0.9625\n",
      "Epoch 9/10\n",
      "1638/1638 [==============================] - 284s 173ms/step - loss: 0.0647 - accuracy: 0.9760 - val_loss: 0.0501 - val_accuracy: 0.9811\n",
      "Epoch 10/10\n",
      "1638/1638 [==============================] - 282s 172ms/step - loss: 0.0465 - accuracy: 0.9835 - val_loss: 0.0953 - val_accuracy: 0.9603\n"
     ]
    },
    {
     "name": "stderr",
     "output_type": "stream",
     "text": [
      "WARNING:absl:Found untraced functions such as _jit_compiled_convolution_op, _jit_compiled_convolution_op, _jit_compiled_convolution_op while saving (showing 3 of 3). These functions will not be directly callable after loading.\n"
     ]
    },
    {
     "name": "stdout",
     "output_type": "stream",
     "text": [
      "INFO:tensorflow:Assets written to: 64x3-CNN.model\\assets\n"
     ]
    },
    {
     "name": "stderr",
     "output_type": "stream",
     "text": [
      "INFO:tensorflow:Assets written to: 64x3-CNN.model\\assets\n"
     ]
    }
   ],
   "source": [
    "import tensorflow as tf  # Import TensorFlow library for deep learning\n",
    "from tensorflow.keras.models import Sequential  # Sequential model for building neural networks layer by layer\n",
    "from tensorflow.keras.layers import Dense, Activation, Flatten, Conv2D, MaxPooling2D  # Import necessary layers\n",
    "from tensorflow.keras.callbacks import TensorBoard\n",
    "import pickle  # Import the pickle library for loading data\n",
    "import numpy as np  # Import NumPy for numerical operations\n",
    "import time  # Import time for timestamp generation\n",
    "import os  # Import os for handling file paths\n",
    "\n",
    "# Limit CPU usage\n",
    "os.environ[\"OMP_NUM_THREADS\"] = \"2\"        # Set the number of OpenMP threads\n",
    "os.environ[\"TF_NUM_INTRAOP_THREADS\"] = \"2\" # Number of threads used for intra-op parallelism\n",
    "os.environ[\"TF_NUM_INTEROP_THREADS\"] = \"1\" # Number of threads used for inter-op parallelism\n",
    "\n",
    "# Load preprocessed image data and labels from pickle files\n",
    "X = pickle.load(open(\"X.pickle\", \"rb\"))  # Load feature data (images)\n",
    "y = pickle.load(open(\"y.pickle\", \"rb\"))  # Load labels (categories)\n",
    "\n",
    "# Normalize the pixel values of images to a range of 0 to 1\n",
    "X = X / 255.0  \n",
    "\n",
    "# Convert y to a NumPy array to ensure it's in the correct format for training\n",
    "y = np.array(y)\n",
    "\n",
    "# Verify that the number of samples in X matches the number of labels in y\n",
    "assert X.shape[0] == y.shape[0], \"Number of samples in X and y must match.\"\n",
    "\n",
    "# Configure TensorFlow to use GPU appropriately\n",
    "gpus = tf.config.experimental.list_physical_devices('GPU')\n",
    "if gpus:\n",
    "    try:\n",
    "        for gpu in gpus:\n",
    "            tf.config.experimental.set_memory_growth(gpu, True)\n",
    "    except RuntimeError as e:\n",
    "        print(e)\n",
    "\n",
    "# Set layer variables.\n",
    "dense_layers = [0]\n",
    "layer_sizes = [64]\n",
    "conv_layers = [3]\n",
    "\n",
    "for dense_layer in dense_layers:\n",
    "    for layer_size in layer_sizes:\n",
    "        for conv_layer in conv_layers:\n",
    "            # Create a unique name for the TensorBoard logs using the current timestamp\n",
    "            NAME = \"{}-conv-{}-nodes-{}-dense-{}\".format(conv_layer, layer_size, dense_layer,int(time.time()))\n",
    "            print(NAME)\n",
    "            # Initialize TensorBoard callback with the correct log directory\n",
    "            log_dir = os.path.join(\"logs\", NAME)\n",
    "            tensorboard = TensorBoard(log_dir=log_dir)\n",
    "            \n",
    "            # Initialize a Sequential model\n",
    "            model = Sequential()\n",
    "            \n",
    "            # Add convolutional layers and pooling layers\n",
    "            model.add(Conv2D(layer_size, (3, 3), input_shape=X.shape[1:]))\n",
    "            model.add(Activation(\"relu\"))\n",
    "            model.add(MaxPooling2D(pool_size=(2, 2)))\n",
    "\n",
    "            for l in range(conv_layer-1):\n",
    "                model.add(Conv2D(layer_size, (3, 3)))\n",
    "                model.add(Activation(\"relu\"))\n",
    "                model.add(MaxPooling2D(pool_size=(2, 2)))\n",
    "            \n",
    "            # Flatten the output from the convolutional layers to feed into the dense layers\n",
    "            model.add(Flatten())\n",
    "\n",
    "            # Add a fully connected (dense) layer\n",
    "            for l in range(dense_layer):\n",
    "                model.add(Dense(layer_size))\n",
    "                model.add(Activation('relu'))\n",
    "           \n",
    "            \n",
    "            # Output layer for binary classification\n",
    "            model.add(Dense(1))\n",
    "            model.add(Activation(\"sigmoid\"))\n",
    "            \n",
    "            # Compile the model with specified parameters\n",
    "            model.compile(loss=\"binary_crossentropy\", optimizer=\"adam\", metrics=['accuracy'])\n",
    "            \n",
    "            # Train the model using the training data and TensorBoard callback for logging\n",
    "            model.fit(X, y, batch_size=32, epochs=10, validation_split=0.3, callbacks=[tensorboard])\n",
    "\n",
    "model.save('64x3-CNN.model')"
   ]
  }
 ],
 "metadata": {
  "kernelspec": {
   "display_name": "Python (Clean ML)",
   "language": "python",
   "name": "cleanmlenv"
  },
  "language_info": {
   "codemirror_mode": {
    "name": "ipython",
    "version": 3
   },
   "file_extension": ".py",
   "mimetype": "text/x-python",
   "name": "python",
   "nbconvert_exporter": "python",
   "pygments_lexer": "ipython3",
   "version": "3.10.13"
  }
 },
 "nbformat": 4,
 "nbformat_minor": 5
}
