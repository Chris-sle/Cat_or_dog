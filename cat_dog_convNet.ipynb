{
 "cells": [
  {
   "cell_type": "code",
   "execution_count": 3,
   "id": "2f2b1e7a-bb09-40d4-81b5-7e2f67ac44c6",
   "metadata": {
    "scrolled": true
   },
   "outputs": [
    {
     "name": "stdout",
     "output_type": "stream",
     "text": [
      "Epoch 1/10\n",
      "1638/1638 [==============================] - 268s 163ms/step - loss: 0.5330 - accuracy: 0.7249 - val_loss: 0.4623 - val_accuracy: 0.7779\n",
      "Epoch 2/10\n",
      "1638/1638 [==============================] - 261s 160ms/step - loss: 0.3756 - accuracy: 0.8314 - val_loss: 0.3147 - val_accuracy: 0.8625\n",
      "Epoch 3/10\n",
      "1638/1638 [==============================] - 275s 168ms/step - loss: 0.2454 - accuracy: 0.8988 - val_loss: 0.1609 - val_accuracy: 0.9391\n",
      "Epoch 4/10\n",
      "1638/1638 [==============================] - 261s 160ms/step - loss: 0.1268 - accuracy: 0.9521 - val_loss: 0.0729 - val_accuracy: 0.9772\n",
      "Epoch 5/10\n",
      "1638/1638 [==============================] - 263s 161ms/step - loss: 0.0566 - accuracy: 0.9812 - val_loss: 0.0310 - val_accuracy: 0.9918\n",
      "Epoch 6/10\n",
      "1638/1638 [==============================] - 263s 161ms/step - loss: 0.0358 - accuracy: 0.9879 - val_loss: 0.0242 - val_accuracy: 0.9923\n",
      "Epoch 7/10\n",
      "1638/1638 [==============================] - 262s 160ms/step - loss: 0.0275 - accuracy: 0.9906 - val_loss: 0.0178 - val_accuracy: 0.9943\n",
      "Epoch 8/10\n",
      "1638/1638 [==============================] - 262s 160ms/step - loss: 0.0234 - accuracy: 0.9923 - val_loss: 0.0165 - val_accuracy: 0.9952\n",
      "Epoch 9/10\n",
      "1638/1638 [==============================] - 262s 160ms/step - loss: 0.0221 - accuracy: 0.9921 - val_loss: 0.0133 - val_accuracy: 0.9961\n",
      "Epoch 10/10\n",
      "1638/1638 [==============================] - 268s 163ms/step - loss: 0.0191 - accuracy: 0.9937 - val_loss: 0.0115 - val_accuracy: 0.9963\n"
     ]
    },
    {
     "data": {
      "text/plain": [
       "<keras.callbacks.History at 0x19a7f811a20>"
      ]
     },
     "execution_count": 3,
     "metadata": {},
     "output_type": "execute_result"
    }
   ],
   "source": [
    "import tensorflow as tf  # Import TensorFlow library for deep learning\n",
    "from tensorflow.keras.models import Sequential  # Sequential model for building neural networks layer by layer\n",
    "from tensorflow.keras.layers import Dense, Activation, Flatten, Conv2D, MaxPooling2D  # Import necessary layers\n",
    "from tensorflow.keras.callbacks import TensorBoard\n",
    "import pickle  # Import the pickle library for loading data\n",
    "import numpy as np  # Import NumPy for numerical operations\n",
    "import time  # Import time for timestamp generation\n",
    "import os  # Import os for handling file paths\n",
    "\n",
    "# Create a unique name for the TensorBoard logs using the current timestamp\n",
    "NAME = \"Cats-vs-dog-cnn-64x2-{}\".format(int(time.time()))\n",
    "\n",
    "# Initialize TensorBoard callback with the correct log directory\n",
    "log_dir = os.path.join(\"logs\", NAME)\n",
    "tensorboard = TensorBoard(log_dir=log_dir)\n",
    "\n",
    "# Load preprocessed image data and labels from pickle files\n",
    "X = pickle.load(open(\"X.pickle\", \"rb\"))  # Load feature data (images)\n",
    "y = pickle.load(open(\"y.pickle\", \"rb\"))  # Load labels (categories)\n",
    "\n",
    "# Normalize the pixel values of images to a range of 0 to 1\n",
    "X = X / 255.0  \n",
    "\n",
    "# Convert y to a NumPy array to ensure it's in the correct format for training\n",
    "y = np.array(y)\n",
    "\n",
    "# Verify that the number of samples in X matches the number of labels in y\n",
    "assert X.shape[0] == y.shape[0], \"Number of samples in X and y must match.\"\n",
    "\n",
    "# Initialize a Sequential model\n",
    "model = Sequential()\n",
    "\n",
    "# Add convolutional layers and pooling layers\n",
    "model.add(Conv2D(64, (3, 3), input_shape=X.shape[1:]))\n",
    "model.add(Activation(\"relu\"))\n",
    "model.add(MaxPooling2D(pool_size=(2, 2)))\n",
    "\n",
    "model.add(Conv2D(64, (3, 3)))\n",
    "model.add(Activation(\"relu\"))\n",
    "model.add(MaxPooling2D(pool_size=(2, 2)))\n",
    "\n",
    "# Flatten the output from the convolutional layers to feed into the dense layers\n",
    "model.add(Flatten())\n",
    "\n",
    "# Add a fully connected (dense) layer\n",
    "model.add(Dense(64))\n",
    "model.add(Activation(\"relu\"))\n",
    "\n",
    "# Output layer for binary classification\n",
    "model.add(Dense(1))\n",
    "model.add(Activation(\"sigmoid\"))\n",
    "\n",
    "# Compile the model with specified parameters\n",
    "model.compile(loss=\"binary_crossentropy\", optimizer=\"adam\", metrics=['accuracy'])\n",
    "\n",
    "# Train the model using the training data and TensorBoard callback for logging\n",
    "model.fit(X, y, batch_size=32, epochs=10, validation_split=0.3, callbacks=[tensorboard])"
   ]
  }
 ],
 "metadata": {
  "kernelspec": {
   "display_name": "Python (Clean ML)",
   "language": "python",
   "name": "cleanmlenv"
  },
  "language_info": {
   "codemirror_mode": {
    "name": "ipython",
    "version": 3
   },
   "file_extension": ".py",
   "mimetype": "text/x-python",
   "name": "python",
   "nbconvert_exporter": "python",
   "pygments_lexer": "ipython3",
   "version": "3.10.13"
  }
 },
 "nbformat": 4,
 "nbformat_minor": 5
}
